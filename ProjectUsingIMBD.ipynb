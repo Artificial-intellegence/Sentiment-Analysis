{
 "cells": [
  {
   "cell_type": "code",
   "execution_count": 1,
   "id": "7dd418f9",
   "metadata": {},
   "outputs": [],
   "source": [
    "#importing necessary libraries\n",
    "import pandas as pd\n",
    "\n",
    "from tensorflow.keras.preprocessing.text import Tokenizer\n",
    "from tensorflow.keras.preprocessing.sequence import pad_sequences\n",
    "from tensorflow.keras.models import Sequential\n",
    "from tensorflow.keras.layers import LSTM,Dense, Dropout, SpatialDropout1D, Bidirectional,Conv1D , MaxPooling1D, Flatten\n",
    "from tensorflow.keras.layers import Embedding\n",
    "\n",
    "#importing IMDB dataset\n",
    "df = pd.read_csv(\"./IMDB Dataset.csv\")"
   ]
  },
  {
   "cell_type": "code",
   "execution_count": 2,
   "id": "327e25a9",
   "metadata": {},
   "outputs": [
    {
     "data": {
      "text/html": [
       "<div>\n",
       "<style scoped>\n",
       "    .dataframe tbody tr th:only-of-type {\n",
       "        vertical-align: middle;\n",
       "    }\n",
       "\n",
       "    .dataframe tbody tr th {\n",
       "        vertical-align: top;\n",
       "    }\n",
       "\n",
       "    .dataframe thead th {\n",
       "        text-align: right;\n",
       "    }\n",
       "</style>\n",
       "<table border=\"1\" class=\"dataframe\">\n",
       "  <thead>\n",
       "    <tr style=\"text-align: right;\">\n",
       "      <th></th>\n",
       "      <th>review</th>\n",
       "      <th>sentiment</th>\n",
       "    </tr>\n",
       "  </thead>\n",
       "  <tbody>\n",
       "    <tr>\n",
       "      <th>0</th>\n",
       "      <td>One of the other reviewers has mentioned that ...</td>\n",
       "      <td>positive</td>\n",
       "    </tr>\n",
       "    <tr>\n",
       "      <th>1</th>\n",
       "      <td>A wonderful little production. &lt;br /&gt;&lt;br /&gt;The...</td>\n",
       "      <td>positive</td>\n",
       "    </tr>\n",
       "    <tr>\n",
       "      <th>2</th>\n",
       "      <td>I thought this was a wonderful way to spend ti...</td>\n",
       "      <td>positive</td>\n",
       "    </tr>\n",
       "    <tr>\n",
       "      <th>3</th>\n",
       "      <td>Basically there's a family where a little boy ...</td>\n",
       "      <td>negative</td>\n",
       "    </tr>\n",
       "    <tr>\n",
       "      <th>4</th>\n",
       "      <td>Petter Mattei's \"Love in the Time of Money\" is...</td>\n",
       "      <td>positive</td>\n",
       "    </tr>\n",
       "  </tbody>\n",
       "</table>\n",
       "</div>"
      ],
      "text/plain": [
       "                                              review sentiment\n",
       "0  One of the other reviewers has mentioned that ...  positive\n",
       "1  A wonderful little production. <br /><br />The...  positive\n",
       "2  I thought this was a wonderful way to spend ti...  positive\n",
       "3  Basically there's a family where a little boy ...  negative\n",
       "4  Petter Mattei's \"Love in the Time of Money\" is...  positive"
      ]
     },
     "execution_count": 2,
     "metadata": {},
     "output_type": "execute_result"
    }
   ],
   "source": [
    "#confirming data has been imported successfully\n",
    "df.head()"
   ]
  },
  {
   "cell_type": "code",
   "execution_count": 3,
   "id": "dbffcae5",
   "metadata": {},
   "outputs": [],
   "source": [
    "#changing sentiment into integer values (positive -> 1; negative -> 0)\n",
    "all_labels = df.sentiment.factorize()\n",
    "all_reviews=df.review.values"
   ]
  },
  {
   "cell_type": "code",
   "execution_count": 4,
   "id": "c2c99ed6",
   "metadata": {},
   "outputs": [],
   "source": [
    "#partition dataset into training and testing (80-20 split)\n",
    "train_labels=all_labels[0][:40000] \n",
    "test_labels=all_labels[0][40000:]\n",
    "train_reviews = all_reviews[:40000]\n",
    "test_reviews=all_reviews[40000:]"
   ]
  },
  {
   "cell_type": "code",
   "execution_count": 5,
   "id": "e08a2f3e",
   "metadata": {},
   "outputs": [
    {
     "name": "stdout",
     "output_type": "stream",
     "text": [
      "10000\n",
      "10000\n"
     ]
    }
   ],
   "source": [
    "#confirming split has occurred as intended\n",
    "print(len(test_labels))\n",
    "print(len(test_reviews))"
   ]
  },
  {
   "cell_type": "code",
   "execution_count": 6,
   "id": "92c5f3dc",
   "metadata": {},
   "outputs": [],
   "source": [
    "#using tokenizer class to pre-process data (as well as padding as needed)\n",
    "tokenizer = Tokenizer(num_words=5000)\n",
    "tokenizer.fit_on_texts(train_reviews)\n",
    "vocab_size = len(tokenizer.word_index) + 1\n",
    "encoded_docs = tokenizer.texts_to_sequences(train_reviews)\n",
    "padded_sequence = pad_sequences(encoded_docs, maxlen=200)"
   ]
  },
  {
   "cell_type": "code",
   "execution_count": 7,
   "id": "e1f204e1",
   "metadata": {},
   "outputs": [
    {
     "name": "stdout",
     "output_type": "stream",
     "text": [
      "One of the other reviewers has mentioned that after watching just 1 Oz episode you'll be hooked. They are right, as this is exactly what happened with me.<br /><br />The first thing that struck me about Oz was its brutality and unflinching scenes of violence, which set in right from the word GO. Trust me, this is not a show for the faint hearted or timid. This show pulls no punches with regards to drugs, sex or violence. Its is hardcore, in the classic use of the word.<br /><br />It is called OZ as that is the nickname given to the Oswald Maximum Security State Penitentary. It focuses mainly on Emerald City, an experimental section of the prison where all the cells have glass fronts and face inwards, so privacy is not high on the agenda. Em City is home to many..Aryans, Muslims, gangstas, Latinos, Christians, Italians, Irish and more....so scuffles, death stares, dodgy dealings and shady agreements are never far away.<br /><br />I would say the main appeal of the show is due to the fact that it goes where other shows wouldn't dare. Forget pretty pictures painted for mainstream audiences, forget charm, forget romance...OZ doesn't mess around. The first episode I ever saw struck me as so nasty it was surreal, I couldn't say I was ready for it, but as I watched more, I developed a taste for Oz, and got accustomed to the high levels of graphic violence. Not just violence, but injustice (crooked guards who'll be sold out for a nickel, inmates who'll kill on order and get away with it, well mannered, middle class inmates being turned into prison bitches due to their lack of street skills or prison experience) Watching Oz, you may become comfortable with what is uncomfortable viewing....thats if you can get in touch with your darker side.\n",
      "[27, 4, 1, 80, 2102, 45, 1073, 12, 100, 147, 39, 316, 2968, 409, 459, 26, 3173, 33, 23, 200, 14, 11, 6, 614, 48, 606, 16, 68, 7, 7, 1, 87, 148, 12, 3256, 68, 41, 2968, 13, 92, 2, 134, 4, 569, 60, 271, 8, 200, 36, 1, 673, 139, 1712, 68, 11, 6, 21, 3, 118, 15, 1, 2257, 38, 11, 118, 2495, 54, 16, 5, 1438, 377, 38, 569, 92, 6, 3730, 8, 1, 360, 353, 4, 1, 673, 7, 7, 9, 6, 431, 2968, 14, 12, 6, 1, 356, 5, 1, 2594, 1087, 9, 2661, 1432, 20, 534, 32, 4795, 2451, 4, 1, 1193, 117, 29, 1, 25, 2874, 2, 392, 34, 6, 21, 304, 20, 1, 4796, 534, 6, 346, 5, 106, 4721, 2306, 2, 50, 34, 326, 2, 23, 111, 226, 241, 7, 7, 10, 58, 132, 1, 282, 1318, 4, 1, 118, 6, 687, 5, 1, 192, 12, 9, 272, 117, 80, 276, 597, 3067, 838, 179, 1352, 4332, 15, 2496, 1221, 838, 1433, 838, 885, 2968, 152, 975, 183, 1, 87, 409, 10, 123, 210, 3256, 68, 14, 34, 1613, 9, 13, 2290, 10, 421, 132, 10, 13, 1609, 15, 9, 18, 14, 10, 287, 50, 10, 1448, 3, 1309, 15, 2968, 2, 191, 5, 1, 304, 2078, 4, 2202, 569, 21, 39, 569, 18, 26, 2857, 42, 15, 3, 512, 20, 637, 2, 75, 241, 16, 9, 69, 664, 705, 109, 659, 83, 1193, 687, 5, 65, 571, 4, 907, 2117, 38, 1193, 553, 147, 2968, 22, 204, 432, 3713, 16, 48, 6, 3407, 806, 1640, 43, 22, 66, 75, 8, 1201, 16, 126, 4181, 488]\n"
     ]
    }
   ],
   "source": [
    "#check if encoding has occurred properly\n",
    "print(train_reviews[0])\n",
    "print(encoded_docs[0])"
   ]
  },
  {
   "cell_type": "code",
   "execution_count": 8,
   "id": "0f499826",
   "metadata": {},
   "outputs": [
    {
     "name": "stdout",
     "output_type": "stream",
     "text": [
      "[   8    1  360  353    4    1  673    7    7    9    6  431 2968   14\n",
      "   12    6    1  356    5    1 2594 1087    9 2661 1432   20  534   32\n",
      " 4795 2451    4    1 1193  117   29    1   25 2874    2  392   34    6\n",
      "   21  304   20    1 4796  534    6  346    5  106 4721 2306    2   50\n",
      "   34  326    2   23  111  226  241    7    7   10   58  132    1  282\n",
      " 1318    4    1  118    6  687    5    1  192   12    9  272  117   80\n",
      "  276  597 3067  838  179 1352 4332   15 2496 1221  838 1433  838  885\n",
      " 2968  152  975  183    1   87  409   10  123  210 3256   68   14   34\n",
      " 1613    9   13 2290   10  421  132   10   13 1609   15    9   18   14\n",
      "   10  287   50   10 1448    3 1309   15 2968    2  191    5    1  304\n",
      " 2078    4 2202  569   21   39  569   18   26 2857   42   15    3  512\n",
      "   20  637    2   75  241   16    9   69  664  705  109  659   83 1193\n",
      "  687    5   65  571    4  907 2117   38 1193  553  147 2968   22  204\n",
      "  432 3713   16   48    6 3407  806 1640   43   22   66   75    8 1201\n",
      "   16  126 4181  488]\n"
     ]
    }
   ],
   "source": [
    "#another check\n",
    "print(padded_sequence[0])"
   ]
  },
  {
   "cell_type": "code",
   "execution_count": 14,
   "id": "1a913446",
   "metadata": {},
   "outputs": [
    {
     "name": "stdout",
     "output_type": "stream",
     "text": [
      "WARNING:tensorflow:Layer lstm_1 will not use cuDNN kernels since it doesn't meet the criteria. It will use a generic GPU kernel as fallback when running on GPU.\n",
      "Model: \"sequential_1\"\n",
      "_________________________________________________________________\n",
      " Layer (type)                Output Shape              Param #   \n",
      "=================================================================\n",
      " embedding_1 (Embedding)     (None, 200, 32)           3589568   \n",
      "                                                                 \n",
      " spatial_dropout1d_1 (Spatia  (None, 200, 32)          0         \n",
      " lDropout1D)                                                     \n",
      "                                                                 \n",
      " lstm_1 (LSTM)               (None, 100)               53200     \n",
      "                                                                 \n",
      " dropout_1 (Dropout)         (None, 100)               0         \n",
      "                                                                 \n",
      " dense_1 (Dense)             (None, 1)                 101       \n",
      "                                                                 \n",
      "=================================================================\n",
      "Total params: 3,642,869\n",
      "Trainable params: 3,642,869\n",
      "Non-trainable params: 0\n",
      "_________________________________________________________________\n",
      "None\n"
     ]
    }
   ],
   "source": [
    "#Recurrent neural network model construction\n",
    "embedding_vector_length = 32\n",
    "model = Sequential() \n",
    "model.add(Embedding(vocab_size, embedding_vector_length, input_length=200) )\n",
    "model.add(SpatialDropout1D(0.3))\n",
    "model.add(LSTM(100, dropout=0.55, recurrent_dropout=0.55))\n",
    "model.add(Dropout(0.25))\n",
    "model.add(Dense(1, activation='sigmoid')) \n",
    "model.compile(loss='binary_crossentropy',optimizer='adam', metrics=['accuracy'])  \n",
    "print(model.summary()) "
   ]
  },
  {
   "cell_type": "code",
   "execution_count": 15,
   "id": "44ea3279",
   "metadata": {},
   "outputs": [
    {
     "name": "stdout",
     "output_type": "stream",
     "text": [
      "Epoch 1/5\n",
      "1000/1000 [==============================] - 198s 197ms/step - loss: 0.4616 - accuracy: 0.7741 - val_loss: 0.3399 - val_accuracy: 0.8561\n",
      "Epoch 2/5\n",
      "1000/1000 [==============================] - 197s 197ms/step - loss: 0.3152 - accuracy: 0.8719 - val_loss: 0.3323 - val_accuracy: 0.8716\n",
      "Epoch 3/5\n",
      "1000/1000 [==============================] - 198s 198ms/step - loss: 0.2851 - accuracy: 0.8853 - val_loss: 0.3494 - val_accuracy: 0.8755\n",
      "Epoch 4/5\n",
      "1000/1000 [==============================] - 198s 198ms/step - loss: 0.2639 - accuracy: 0.8960 - val_loss: 0.3052 - val_accuracy: 0.8788\n",
      "Epoch 5/5\n",
      "1000/1000 [==============================] - 199s 199ms/step - loss: 0.2449 - accuracy: 0.9040 - val_loss: 0.3443 - val_accuracy: 0.8605\n"
     ]
    }
   ],
   "source": [
    "#train the model for set number of epochs\n",
    "history = model.fit(padded_sequence,train_labels,validation_split=0.2, epochs=5, batch_size=32)"
   ]
  },
  {
   "cell_type": "code",
   "execution_count": 16,
   "id": "a05abec8",
   "metadata": {},
   "outputs": [],
   "source": [
    "#import for charts below\n",
    "import matplotlib.pyplot as plt"
   ]
  },
  {
   "cell_type": "code",
   "execution_count": 17,
   "id": "d15c336c",
   "metadata": {},
   "outputs": [
    {
     "data": {
      "image/png": "[encoded data removed]",
      "text/plain": [
       "<Figure size 432x288 with 1 Axes>"
      ]
     },
     "metadata": {
      "needs_background": "light"
     },
     "output_type": "display_data"
    },
    {
     "data": {
      "text/plain": [
       "<Figure size 432x288 with 0 Axes>"
      ]
     },
     "metadata": {},
     "output_type": "display_data"
    }
   ],
   "source": [
    "#plot accuracy\n",
    "plt.plot(history.history['accuracy'], label='acc')\n",
    "plt.plot(history.history['val_accuracy'], label='val_acc')\n",
    "plt.legend()\n",
    "plt.show()\n",
    "plt.savefig(\"Accuracy plot.jpg\")"
   ]
  },
  {
   "cell_type": "code",
   "execution_count": 18,
   "id": "c664b281",
   "metadata": {},
   "outputs": [
    {
     "data": {
      "image/png": "[encoded data removed]",
      "text/plain": [
       "<Figure size 432x288 with 1 Axes>"
      ]
     },
     "metadata": {
      "needs_background": "light"
     },
     "output_type": "display_data"
    },
    {
     "data": {
      "text/plain": [
       "<Figure size 432x288 with 0 Axes>"
      ]
     },
     "metadata": {},
     "output_type": "display_data"
    }
   ],
   "source": [
    "#plot loss\n",
    "plt.plot(history.history['loss'], label='loss')\n",
    "plt.plot(history.history['val_loss'], label='val_loss')\n",
    "plt.legend()\n",
    "plt.show()\n",
    "plt.savefig(\"Loss plot.jpg\")"
   ]
  },
  {
   "cell_type": "code",
   "execution_count": 14,
   "id": "1b54b985",
   "metadata": {},
   "outputs": [],
   "source": [
    "#method predicting sentiment of a piece of text\n",
    "def predict_sentiment(text):\n",
    "    tw = tokenizer.texts_to_sequences([text])\n",
    "    tw = pad_sequences(tw,maxlen=200)\n",
    "    prediction = int(model.predict(tw).round().item())\n",
    "    print(\"Predicted label: \", all_labels[1][prediction])"
   ]
  },
  {
   "cell_type": "code",
   "execution_count": 15,
   "id": "43cb4263",
   "metadata": {},
   "outputs": [],
   "source": [
    "#method computing accuracy of the entire model\n",
    "def getAccuracy(model):    \n",
    "    correct=0\n",
    "    for i in range(len(test_reviews)):\n",
    "        tw = tokenizer.texts_to_sequences([test_reviews[i]])\n",
    "        tw = pad_sequences(tw,maxlen=200)\n",
    "        prediction = int(model.predict(tw).round().item())\n",
    "        if prediction == test_labels[i]:\n",
    "            correct+=1\n",
    "    return (correct/len(test_reviews))*100        "
   ]
  },
  {
   "cell_type": "code",
   "execution_count": 17,
   "id": "d4ebb159",
   "metadata": {},
   "outputs": [
    {
     "name": "stdout",
     "output_type": "stream",
     "text": [
      "Predicted label:  positive\n",
      "Predicted label:  negative\n"
     ]
    }
   ],
   "source": [
    "#check predict_sentiment working as intended\n",
    "test_sentence1 = \"I liked my journey on this flight.\"\n",
    "predict_sentiment(test_sentence1)\n",
    "\n",
    "test_sentence2 = \"This is a bad flight!\"\n",
    "predict_sentiment(test_sentence2)"
   ]
  },
  {
   "cell_type": "code",
   "execution_count": 18,
   "id": "0f4d91ed",
   "metadata": {},
   "outputs": [
    {
     "name": "stdout",
     "output_type": "stream",
     "text": [
      "87.76\n"
     ]
    }
   ],
   "source": [
    "#obtain accuracy of the model\n",
    "print(getAccuracy(model))"
   ]
  }
 ],
 "metadata": {
  "kernelspec": {
   "display_name": "Python 3 (ipykernel)",
   "language": "python",
   "name": "python3"
  },
  "language_info": {
   "codemirror_mode": {
    "name": "ipython",
    "version": 3
   },
   "file_extension": ".py",
   "mimetype": "text/x-python",
   "name": "python",
   "nbconvert_exporter": "python",
   "pygments_lexer": "ipython3",
   "version": "3.8.10"
  }
 },
 "nbformat": 4,
 "nbformat_minor": 5
}
